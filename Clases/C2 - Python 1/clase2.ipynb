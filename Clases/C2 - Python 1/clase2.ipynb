{
 "cells": [
  {
   "cell_type": "code",
   "execution_count": 6,
   "metadata": {},
   "outputs": [],
   "source": [
    "# Variables:\n",
    "\n",
    "\n",
    "# asigno una variable a un valor\n",
    "edad_profe = 37.2"
   ]
  },
  {
   "cell_type": "code",
   "execution_count": 7,
   "metadata": {},
   "outputs": [
    {
     "name": "stdout",
     "output_type": "stream",
     "text": [
      "37.2\n"
     ]
    }
   ],
   "source": [
    "# imprimir por pantalla una variable\n",
    "print(edad_profe)"
   ]
  },
  {
   "cell_type": "code",
   "execution_count": 4,
   "metadata": {},
   "outputs": [
    {
     "data": {
      "text/plain": [
       "False"
      ]
     },
     "execution_count": 4,
     "metadata": {},
     "output_type": "execute_result"
    }
   ],
   "source": [
    "# la funcion is_integer comprueba si un numero es entero o no, devuelve un Boolean\n",
    "edad_profe.is_integer()"
   ]
  },
  {
   "cell_type": "code",
   "execution_count": 8,
   "metadata": {},
   "outputs": [],
   "source": [
    "#asignacion de una variable\n",
    "x = 1"
   ]
  },
  {
   "cell_type": "code",
   "execution_count": 9,
   "metadata": {},
   "outputs": [
    {
     "data": {
      "text/plain": [
       "int"
      ]
     },
     "execution_count": 9,
     "metadata": {},
     "output_type": "execute_result"
    }
   ],
   "source": [
    "# funcion type, se le pasa un parametro y devuelve que tipo de dato es\n",
    "type(x)"
   ]
  },
  {
   "cell_type": "code",
   "execution_count": null,
   "metadata": {},
   "outputs": [],
   "source": [
    "# muestro por pantalla el valor de una variable (X)\n",
    "print(x)"
   ]
  },
  {
   "cell_type": "code",
   "execution_count": 10,
   "metadata": {},
   "outputs": [],
   "source": [
    "# a la variable x le asigno una cadena de caracteres \n",
    "x = 'hola'"
   ]
  },
  {
   "cell_type": "code",
   "execution_count": 11,
   "metadata": {},
   "outputs": [
    {
     "name": "stdout",
     "output_type": "stream",
     "text": [
      "[1, 2, 3, 5, 'hola', ['perro', 5]] [1, 2, 3, 5, 'hola', ['perro', 5]]\n"
     ]
    }
   ],
   "source": [
    "# creacion de una lista, que la nombro X\n",
    "# tiene valores enteros, caracteres, y otra lista\n",
    "x = [1,2,3,5,'hola',['perro',5]]\n",
    "\n",
    "# creo otra variable llamada y que le asigno los valores de la lista X\n",
    "y = x\n",
    "\n",
    "# muestro por pantalla los valores de x e y\n",
    "print(y,x)"
   ]
  },
  {
   "cell_type": "code",
   "execution_count": 12,
   "metadata": {},
   "outputs": [],
   "source": [
    "\n",
    "#asigno a la lista x, con la funcion append, un elemento al final.\n",
    "x.append('ultimo elemento')"
   ]
  },
  {
   "cell_type": "code",
   "execution_count": 13,
   "metadata": {},
   "outputs": [
    {
     "name": "stdout",
     "output_type": "stream",
     "text": [
      "[1, 2, 3, 5, 'hola', ['perro', 5], 'ultimo elemento']\n"
     ]
    }
   ],
   "source": [
    "# muestro por pantalla el valor de x, en este caso la lista, y compruebo el ultimo elemento que agregue\n",
    "print(x)"
   ]
  },
  {
   "cell_type": "code",
   "execution_count": 14,
   "metadata": {},
   "outputs": [
    {
     "name": "stdout",
     "output_type": "stream",
     "text": [
      "[1, 2, 3, 5, 'hola', ['perro', 5], 'ultimo elemento']\n"
     ]
    }
   ],
   "source": [
    "# muestro el valor de y (recordar que tiene el mismo valor de x)\n",
    "print(y)"
   ]
  },
  {
   "cell_type": "code",
   "execution_count": 15,
   "metadata": {},
   "outputs": [
    {
     "data": {
      "text/plain": [
       "1824715372288"
      ]
     },
     "execution_count": 15,
     "metadata": {},
     "output_type": "execute_result"
    }
   ],
   "source": [
    "# muestro el id que tiene la lista x\n",
    "id(x)"
   ]
  },
  {
   "cell_type": "code",
   "execution_count": 16,
   "metadata": {},
   "outputs": [
    {
     "data": {
      "text/plain": [
       "1824715372288"
      ]
     },
     "execution_count": 16,
     "metadata": {},
     "output_type": "execute_result"
    }
   ],
   "source": [
    "# muestro el valor de la lista, en este caso y\n",
    "id(y)"
   ]
  },
  {
   "cell_type": "code",
   "execution_count": 17,
   "metadata": {},
   "outputs": [],
   "source": [
    "# agregue un elemento, entero en este caso , a la lista y\n",
    "y.append(1)"
   ]
  },
  {
   "cell_type": "code",
   "execution_count": 18,
   "metadata": {},
   "outputs": [
    {
     "name": "stdout",
     "output_type": "stream",
     "text": [
      "[1, 2, 3, 5, 'hola', ['perro', 5], 'ultimo elemento', 1]\n",
      "[1, 2, 3, 5, 'hola', ['perro', 5], 'ultimo elemento', 1]\n"
     ]
    }
   ],
   "source": [
    "\n",
    "# muestro los valores de x e y , y compruebo las ultimas asignaciones.\n",
    "print(y)\n",
    "print(x)"
   ]
  },
  {
   "cell_type": "code",
   "execution_count": 19,
   "metadata": {},
   "outputs": [],
   "source": [
    "# elimino un elemento de la lista y , y le tengo que pasar el parametro que quiero eliminar\n",
    "y.remove('ultimo elemento')\n"
   ]
  },
  {
   "cell_type": "code",
   "execution_count": 20,
   "metadata": {},
   "outputs": [
    {
     "name": "stdout",
     "output_type": "stream",
     "text": [
      "[1, 2, 3, 5, 'hola', ['perro', 5], 1]\n",
      "[1, 2, 3, 5, 'hola', ['perro', 5], 1]\n"
     ]
    }
   ],
   "source": [
    "# muestro los valores de x e y , y compruebo las ultimas asignaciones.\n",
    "print(y)\n",
    "print(x)"
   ]
  },
  {
   "cell_type": "code",
   "execution_count": 21,
   "metadata": {},
   "outputs": [],
   "source": [
    "#elimino un parametro, cuando existan dos elementos iguales, elimina de los dos elementos, el ultimo.\n",
    ".remove(1)"
   ]
  },
  {
   "cell_type": "code",
   "execution_count": 23,
   "metadata": {},
   "outputs": [
    {
     "name": "stdout",
     "output_type": "stream",
     "text": [
      "[2, 3, 5, 'hola', ['perro', 5], 1]\n",
      "[2, 3, 5, 'hola', ['perro', 5], 1]\n"
     ]
    }
   ],
   "source": [
    "# muestra las dos listas de vuelta\n",
    "print(y)\n",
    "print(x)"
   ]
  },
  {
   "cell_type": "code",
   "execution_count": null,
   "metadata": {},
   "outputs": [],
   "source": [
    "\n",
    "# remuevo un valor de la lista y ,pasando el parametro, y muestro por pantalla.\n",
    "y.remove(1)\n",
    "print(y)\n",
    "print(x)"
   ]
  },
  {
   "cell_type": "code",
   "execution_count": 24,
   "metadata": {},
   "outputs": [
    {
     "name": "stdout",
     "output_type": "stream",
     "text": [
      "16.3\n"
     ]
    }
   ],
   "source": [
    "\n",
    "# asigno a una variable, una operacion.\n",
    "x = 15 + 1.3\n",
    "\n",
    "print(x)"
   ]
  },
  {
   "cell_type": "code",
   "execution_count": null,
   "metadata": {},
   "outputs": [],
   "source": [
    "# creo dos variables y le asigno valores.\n",
    "x = 40\n",
    "y = 12\n",
    "\n",
    "\n",
    "# creo variables, que le asignare operaciones.\n",
    "add = x + y\n",
    "sub = x - y\n",
    "pro = x * y\n",
    "div = x / y\n",
    "\n",
    "\n",
    "#muestro por pantalla las operaciones.\n",
    "print(add)\n",
    "print(sub)\n",
    "print(pro)\n",
    "print(div)"
   ]
  },
  {
   "cell_type": "code",
   "execution_count": 25,
   "metadata": {},
   "outputs": [
    {
     "name": "stdout",
     "output_type": "stream",
     "text": [
      "25\n"
     ]
    }
   ],
   "source": [
    "\n",
    "# asignacion de variables, tipo de datos  enteros, y flotaantes, \n",
    "a = 13\n",
    "b = 12.0\n",
    "\n",
    "# asignacion de variable c, a la suma de lo que vale a, mas el cambio de valor de flotante a entero de B\n",
    "c = a + int(b)\n",
    "print(c)"
   ]
  },
  {
   "cell_type": "code",
   "execution_count": 26,
   "metadata": {},
   "outputs": [
    {
     "name": "stdout",
     "output_type": "stream",
     "text": [
      "2.6\n"
     ]
    }
   ],
   "source": [
    "\n",
    "# creacion de variables \n",
    "a = 13\n",
    "b = 5\n",
    "\n",
    "# ejecuto operacion entre dos variables. \n",
    "c = a / b\n",
    "print(c)"
   ]
  },
  {
   "cell_type": "code",
   "execution_count": 3,
   "metadata": {},
   "outputs": [
    {
     "data": {
      "text/html": [
       "<div>\n",
       "<style scoped>\n",
       "    .dataframe tbody tr th:only-of-type {\n",
       "        vertical-align: middle;\n",
       "    }\n",
       "\n",
       "    .dataframe tbody tr th {\n",
       "        vertical-align: top;\n",
       "    }\n",
       "\n",
       "    .dataframe thead th {\n",
       "        text-align: right;\n",
       "    }\n",
       "</style>\n",
       "<table border=\"1\" class=\"dataframe\">\n",
       "  <thead>\n",
       "    <tr style=\"text-align: right;\">\n",
       "      <th></th>\n",
       "      <th>MCD</th>\n",
       "      <th>SBUX</th>\n",
       "      <th>GOOG</th>\n",
       "      <th>AMZN</th>\n",
       "      <th>MSFT</th>\n",
       "      <th>JPM</th>\n",
       "      <th>BAC</th>\n",
       "      <th>C</th>\n",
       "      <th>MAR</th>\n",
       "      <th>HLT</th>\n",
       "      <th>RCL</th>\n",
       "      <th>V</th>\n",
       "      <th>MA</th>\n",
       "      <th>PYPL</th>\n",
       "    </tr>\n",
       "    <tr>\n",
       "      <th>formatted_date</th>\n",
       "      <th></th>\n",
       "      <th></th>\n",
       "      <th></th>\n",
       "      <th></th>\n",
       "      <th></th>\n",
       "      <th></th>\n",
       "      <th></th>\n",
       "      <th></th>\n",
       "      <th></th>\n",
       "      <th></th>\n",
       "      <th></th>\n",
       "      <th></th>\n",
       "      <th></th>\n",
       "      <th></th>\n",
       "    </tr>\n",
       "  </thead>\n",
       "  <tbody>\n",
       "    <tr>\n",
       "      <th>2016-01-01</th>\n",
       "      <td>106.332146</td>\n",
       "      <td>54.353962</td>\n",
       "      <td>742.950012</td>\n",
       "      <td>587.000000</td>\n",
       "      <td>49.853489</td>\n",
       "      <td>50.424938</td>\n",
       "      <td>12.573010</td>\n",
       "      <td>36.897804</td>\n",
       "      <td>57.754189</td>\n",
       "      <td>35.192841</td>\n",
       "      <td>74.235298</td>\n",
       "      <td>71.574371</td>\n",
       "      <td>85.822624</td>\n",
       "      <td>36.139999</td>\n",
       "    </tr>\n",
       "    <tr>\n",
       "      <th>2016-02-01</th>\n",
       "      <td>100.671043</td>\n",
       "      <td>52.064243</td>\n",
       "      <td>697.770020</td>\n",
       "      <td>552.520020</td>\n",
       "      <td>46.043667</td>\n",
       "      <td>48.033066</td>\n",
       "      <td>11.132540</td>\n",
       "      <td>33.707108</td>\n",
       "      <td>64.228912</td>\n",
       "      <td>41.061607</td>\n",
       "      <td>67.360649</td>\n",
       "      <td>69.556580</td>\n",
       "      <td>83.956566</td>\n",
       "      <td>38.139999</td>\n",
       "    </tr>\n",
       "    <tr>\n",
       "      <th>2016-03-01</th>\n",
       "      <td>108.782211</td>\n",
       "      <td>53.571442</td>\n",
       "      <td>744.950012</td>\n",
       "      <td>593.640015</td>\n",
       "      <td>50.339031</td>\n",
       "      <td>50.524323</td>\n",
       "      <td>12.021718</td>\n",
       "      <td>36.223217</td>\n",
       "      <td>67.336624</td>\n",
       "      <td>44.499886</td>\n",
       "      <td>74.790009</td>\n",
       "      <td>73.631477</td>\n",
       "      <td>91.278160</td>\n",
       "      <td>38.599998</td>\n",
       "    </tr>\n",
       "    <tr>\n",
       "      <th>2016-04-01</th>\n",
       "      <td>109.483307</td>\n",
       "      <td>50.457645</td>\n",
       "      <td>693.010010</td>\n",
       "      <td>659.590027</td>\n",
       "      <td>45.453705</td>\n",
       "      <td>53.919910</td>\n",
       "      <td>12.995729</td>\n",
       "      <td>40.153545</td>\n",
       "      <td>66.305466</td>\n",
       "      <td>43.716049</td>\n",
       "      <td>70.465584</td>\n",
       "      <td>74.363144</td>\n",
       "      <td>93.683258</td>\n",
       "      <td>39.180000</td>\n",
       "    </tr>\n",
       "    <tr>\n",
       "      <th>2016-05-01</th>\n",
       "      <td>105.648926</td>\n",
       "      <td>49.255203</td>\n",
       "      <td>735.719971</td>\n",
       "      <td>722.789978</td>\n",
       "      <td>48.306515</td>\n",
       "      <td>56.098225</td>\n",
       "      <td>13.201019</td>\n",
       "      <td>40.447887</td>\n",
       "      <td>62.474155</td>\n",
       "      <td>41.198154</td>\n",
       "      <td>70.456474</td>\n",
       "      <td>75.999847</td>\n",
       "      <td>92.817329</td>\n",
       "      <td>37.790001</td>\n",
       "    </tr>\n",
       "  </tbody>\n",
       "</table>\n",
       "</div>"
      ],
      "text/plain": [
       "                       MCD       SBUX        GOOG        AMZN       MSFT  \\\n",
       "formatted_date                                                             \n",
       "2016-01-01      106.332146  54.353962  742.950012  587.000000  49.853489   \n",
       "2016-02-01      100.671043  52.064243  697.770020  552.520020  46.043667   \n",
       "2016-03-01      108.782211  53.571442  744.950012  593.640015  50.339031   \n",
       "2016-04-01      109.483307  50.457645  693.010010  659.590027  45.453705   \n",
       "2016-05-01      105.648926  49.255203  735.719971  722.789978  48.306515   \n",
       "\n",
       "                      JPM        BAC          C        MAR        HLT  \\\n",
       "formatted_date                                                          \n",
       "2016-01-01      50.424938  12.573010  36.897804  57.754189  35.192841   \n",
       "2016-02-01      48.033066  11.132540  33.707108  64.228912  41.061607   \n",
       "2016-03-01      50.524323  12.021718  36.223217  67.336624  44.499886   \n",
       "2016-04-01      53.919910  12.995729  40.153545  66.305466  43.716049   \n",
       "2016-05-01      56.098225  13.201019  40.447887  62.474155  41.198154   \n",
       "\n",
       "                      RCL          V         MA       PYPL  \n",
       "formatted_date                                              \n",
       "2016-01-01      74.235298  71.574371  85.822624  36.139999  \n",
       "2016-02-01      67.360649  69.556580  83.956566  38.139999  \n",
       "2016-03-01      74.790009  73.631477  91.278160  38.599998  \n",
       "2016-04-01      70.465584  74.363144  93.683258  39.180000  \n",
       "2016-05-01      70.456474  75.999847  92.817329  37.790001  "
      ]
     },
     "execution_count": 3,
     "metadata": {},
     "output_type": "execute_result"
    }
   ],
   "source": [
    "# importo la libreria pandas, y la renombro.\n",
    "import pandas as pd\n",
    "\n",
    "# creo una variable , y le asigno la direccion donde tengo el dataset\n",
    "url = 'https://raw.githubusercontent.com/JJTorresDS/stocks-ds-edu/main/stocks.csv'\n",
    "\n",
    "# creo una variable llamanda df, uso una operacion llamando a la libreria, lectura de csv\n",
    "# le paso parametros url,  y que la columna index , se la numero 0\n",
    "df = pd.read_csv(url, index_col=0)\n",
    "# muestro los 5 PRIMEROS VALORES.\n",
    "# print(df.head(5))\n",
    "df.head()"
   ]
  },
  {
   "cell_type": "code",
   "execution_count": 4,
   "metadata": {},
   "outputs": [
    {
     "data": {
      "text/plain": [
       "(71, 14)"
      ]
     },
     "execution_count": 4,
     "metadata": {},
     "output_type": "execute_result"
    }
   ],
   "source": [
    "# funcion shape, muestra la cantidad de filas por columnas.\n",
    "df.shape"
   ]
  },
  {
   "cell_type": "code",
   "execution_count": null,
   "metadata": {},
   "outputs": [],
   "source": []
  },
  {
   "cell_type": "markdown",
   "metadata": {},
   "source": [
    "Las columnas son los precios de acciones de:\n",
    "\n",
    "1. MCD: Macdonals\n",
    "2. SBUX: Starbucks\n",
    "3. GOOG: Google\n",
    "4. AMZN: Amazon\n",
    "5. MSFT: Microsoft\n",
    "6. JPM: JPMorgan Chase & Co.\n",
    "7. BAC: Bank of America Corp\n",
    "8. C: Citigroup\n",
    "9. MAR: Pharma MAr\n",
    "10. HLT: Hoteles Hilton\n",
    "11. RCL: Royal Caribbean Cruises\n",
    "12. V: Visa Inc.\n",
    "13. MA: Mastercard\n",
    "14. PYPL: Paypal"
   ]
  },
  {
   "cell_type": "code",
   "execution_count": 5,
   "metadata": {},
   "outputs": [
    {
     "data": {
      "text/plain": [
       "formatted_date\n",
       "2016-01-01     742.950012\n",
       "2016-02-01     697.770020\n",
       "2016-03-01     744.950012\n",
       "2016-04-01     693.010010\n",
       "2016-05-01     735.719971\n",
       "                 ...     \n",
       "2021-07-01    2704.419922\n",
       "2021-08-01    2909.239990\n",
       "2021-09-01    2665.310059\n",
       "2021-10-01    2965.409912\n",
       "2021-11-01    2849.040039\n",
       "Name: GOOG, Length: 71, dtype: float64"
      ]
     },
     "execution_count": 5,
     "metadata": {},
     "output_type": "execute_result"
    }
   ],
   "source": [
    "df['GOOG']"
   ]
  },
  {
   "cell_type": "code",
   "execution_count": 6,
   "metadata": {},
   "outputs": [
    {
     "data": {
      "text/plain": [
       "<Axes: title={'center': 'Precio Accion vs Fecha'}, xlabel='Fecha', ylabel='Precio Accion'>"
      ]
     },
     "execution_count": 6,
     "metadata": {},
     "output_type": "execute_result"
    },
    {
     "data": {
      "image/png": "[encoded data removed]",
      "text/plain": [
       "<Figure size 1000x600 with 1 Axes>"
      ]
     },
     "metadata": {},
     "output_type": "display_data"
    }
   ],
   "source": [
    "\n",
    "# uso del df la columna 'GOOG'\n",
    "# uso el diagrama plot con lineas\n",
    "# el figsize sea de 10/6\n",
    "# nombre el eje x para que se llame Fecha\n",
    "# nombro el eje y con precio de accion\n",
    "# pongo como titulo Preccio accion vs Fecha.\n",
    "df['GOOG'].plot(kind='line',figsize=(10,6),xlabel='Fecha', \n",
    "                ylabel='Precio Accion', title='Precio Accion vs Fecha')"
   ]
  },
  {
   "cell_type": "code",
   "execution_count": 7,
   "metadata": {},
   "outputs": [
    {
     "data": {
      "text/plain": [
       "['GOOG']"
      ]
     },
     "execution_count": 7,
     "metadata": {},
     "output_type": "execute_result"
    }
   ],
   "source": [
    "\n",
    "# creo una lista, con los nombres de las columnas, \n",
    "# recordar de pasarle el parametro list, para que lo transforme en lista.\n",
    "columnas=list(df.columns)\n",
    "\n",
    "# creo una variable google que almacene todas las veces que aparecio google.\n",
    "google= [x for x in columnas if x =='GOOG']\n",
    "google"
   ]
  },
  {
   "cell_type": "code",
   "execution_count": 8,
   "metadata": {},
   "outputs": [
    {
     "data": {
      "text/html": [
       "<div>\n",
       "<style scoped>\n",
       "    .dataframe tbody tr th:only-of-type {\n",
       "        vertical-align: middle;\n",
       "    }\n",
       "\n",
       "    .dataframe tbody tr th {\n",
       "        vertical-align: top;\n",
       "    }\n",
       "\n",
       "    .dataframe thead th {\n",
       "        text-align: right;\n",
       "    }\n",
       "</style>\n",
       "<table border=\"1\" class=\"dataframe\">\n",
       "  <thead>\n",
       "    <tr style=\"text-align: right;\">\n",
       "      <th></th>\n",
       "      <th>GOOG</th>\n",
       "    </tr>\n",
       "    <tr>\n",
       "      <th>formatted_date</th>\n",
       "      <th></th>\n",
       "    </tr>\n",
       "  </thead>\n",
       "  <tbody>\n",
       "    <tr>\n",
       "      <th>2016-01-01</th>\n",
       "      <td>742.950012</td>\n",
       "    </tr>\n",
       "    <tr>\n",
       "      <th>2016-02-01</th>\n",
       "      <td>697.770020</td>\n",
       "    </tr>\n",
       "    <tr>\n",
       "      <th>2016-03-01</th>\n",
       "      <td>744.950012</td>\n",
       "    </tr>\n",
       "    <tr>\n",
       "      <th>2016-04-01</th>\n",
       "      <td>693.010010</td>\n",
       "    </tr>\n",
       "    <tr>\n",
       "      <th>2016-05-01</th>\n",
       "      <td>735.719971</td>\n",
       "    </tr>\n",
       "    <tr>\n",
       "      <th>...</th>\n",
       "      <td>...</td>\n",
       "    </tr>\n",
       "    <tr>\n",
       "      <th>2021-07-01</th>\n",
       "      <td>2704.419922</td>\n",
       "    </tr>\n",
       "    <tr>\n",
       "      <th>2021-08-01</th>\n",
       "      <td>2909.239990</td>\n",
       "    </tr>\n",
       "    <tr>\n",
       "      <th>2021-09-01</th>\n",
       "      <td>2665.310059</td>\n",
       "    </tr>\n",
       "    <tr>\n",
       "      <th>2021-10-01</th>\n",
       "      <td>2965.409912</td>\n",
       "    </tr>\n",
       "    <tr>\n",
       "      <th>2021-11-01</th>\n",
       "      <td>2849.040039</td>\n",
       "    </tr>\n",
       "  </tbody>\n",
       "</table>\n",
       "<p>71 rows × 1 columns</p>\n",
       "</div>"
      ],
      "text/plain": [
       "                       GOOG\n",
       "formatted_date             \n",
       "2016-01-01       742.950012\n",
       "2016-02-01       697.770020\n",
       "2016-03-01       744.950012\n",
       "2016-04-01       693.010010\n",
       "2016-05-01       735.719971\n",
       "...                     ...\n",
       "2021-07-01      2704.419922\n",
       "2021-08-01      2909.239990\n",
       "2021-09-01      2665.310059\n",
       "2021-10-01      2965.409912\n",
       "2021-11-01      2849.040039\n",
       "\n",
       "[71 rows x 1 columns]"
      ]
     },
     "execution_count": 8,
     "metadata": {},
     "output_type": "execute_result"
    }
   ],
   "source": [
    "\n",
    "# creo una lista que me guarde la columna cuando sea google\n",
    "indice_col=list(df.columns=='GOOG')\n",
    "\n",
    "\n",
    "# creo un df\n",
    "df_goog=df.loc[:,indice_col]\n",
    "df_goog # Hemos terminado"
   ]
  },
  {
   "cell_type": "code",
   "execution_count": 9,
   "metadata": {},
   "outputs": [
    {
     "data": {
      "text/html": [
       "<div>\n",
       "<style scoped>\n",
       "    .dataframe tbody tr th:only-of-type {\n",
       "        vertical-align: middle;\n",
       "    }\n",
       "\n",
       "    .dataframe tbody tr th {\n",
       "        vertical-align: top;\n",
       "    }\n",
       "\n",
       "    .dataframe thead th {\n",
       "        text-align: right;\n",
       "    }\n",
       "</style>\n",
       "<table border=\"1\" class=\"dataframe\">\n",
       "  <thead>\n",
       "    <tr style=\"text-align: right;\">\n",
       "      <th></th>\n",
       "      <th>GOOG</th>\n",
       "      <th>Fecha</th>\n",
       "    </tr>\n",
       "  </thead>\n",
       "  <tbody>\n",
       "    <tr>\n",
       "      <th>0</th>\n",
       "      <td>742.950012</td>\n",
       "      <td>2016-01-01</td>\n",
       "    </tr>\n",
       "    <tr>\n",
       "      <th>1</th>\n",
       "      <td>697.770020</td>\n",
       "      <td>2016-02-01</td>\n",
       "    </tr>\n",
       "    <tr>\n",
       "      <th>2</th>\n",
       "      <td>744.950012</td>\n",
       "      <td>2016-03-01</td>\n",
       "    </tr>\n",
       "    <tr>\n",
       "      <th>3</th>\n",
       "      <td>693.010010</td>\n",
       "      <td>2016-04-01</td>\n",
       "    </tr>\n",
       "    <tr>\n",
       "      <th>4</th>\n",
       "      <td>735.719971</td>\n",
       "      <td>2016-05-01</td>\n",
       "    </tr>\n",
       "    <tr>\n",
       "      <th>...</th>\n",
       "      <td>...</td>\n",
       "      <td>...</td>\n",
       "    </tr>\n",
       "    <tr>\n",
       "      <th>66</th>\n",
       "      <td>2704.419922</td>\n",
       "      <td>2021-07-01</td>\n",
       "    </tr>\n",
       "    <tr>\n",
       "      <th>67</th>\n",
       "      <td>2909.239990</td>\n",
       "      <td>2021-08-01</td>\n",
       "    </tr>\n",
       "    <tr>\n",
       "      <th>68</th>\n",
       "      <td>2665.310059</td>\n",
       "      <td>2021-09-01</td>\n",
       "    </tr>\n",
       "    <tr>\n",
       "      <th>69</th>\n",
       "      <td>2965.409912</td>\n",
       "      <td>2021-10-01</td>\n",
       "    </tr>\n",
       "    <tr>\n",
       "      <th>70</th>\n",
       "      <td>2849.040039</td>\n",
       "      <td>2021-11-01</td>\n",
       "    </tr>\n",
       "  </tbody>\n",
       "</table>\n",
       "<p>71 rows × 2 columns</p>\n",
       "</div>"
      ],
      "text/plain": [
       "           GOOG      Fecha\n",
       "0    742.950012 2016-01-01\n",
       "1    697.770020 2016-02-01\n",
       "2    744.950012 2016-03-01\n",
       "3    693.010010 2016-04-01\n",
       "4    735.719971 2016-05-01\n",
       "..          ...        ...\n",
       "66  2704.419922 2021-07-01\n",
       "67  2909.239990 2021-08-01\n",
       "68  2665.310059 2021-09-01\n",
       "69  2965.409912 2021-10-01\n",
       "70  2849.040039 2021-11-01\n",
       "\n",
       "[71 rows x 2 columns]"
      ]
     },
     "execution_count": 9,
     "metadata": {},
     "output_type": "execute_result"
    }
   ],
   "source": [
    "\n",
    "# copio en df_n el dataframe df_google\n",
    "df_n= df_goog.copy()\n",
    "\n",
    "# agrego una columna que le asgino los indices del df_n\n",
    "df_n['Fecha']= df_n.index \n",
    "\n",
    "# al df_n  le reseteo los indices( por los que quedaron vacios)\n",
    "df_n= df_n.reset_index(drop=True)\n",
    "\n",
    "# al df _ n, la columna fecha le asgino  la fecha de formarto tiempo.\n",
    "df_n['Fecha']=pd.to_datetime(df_n['Fecha'])\n",
    "\n",
    "# muestro\n",
    "df_n"
   ]
  },
  {
   "cell_type": "code",
   "execution_count": 10,
   "metadata": {},
   "outputs": [
    {
     "data": {
      "application/vnd.plotly.v1+json": {
       "config": {
        "plotlyServerURL": "https://plot.ly"
       },
       "data": [
        {
         "hovertemplate": "Fecha_dias=%{x}<br>GOOG=%{y}<extra></extra>",
         "legendgroup": "",
         "line": {
          "color": "#636efa",
          "dash": "solid"
         },
         "marker": {
          "symbol": "circle"
         },
         "mode": "lines",
         "name": "",
         "orientation": "v",
         "showlegend": false,
         "type": "scatter",
         "x": [
          "2016-01-01T00:00:00",
          "2016-02-01T00:00:00",
          "2016-03-01T00:00:00",
          "2016-04-01T00:00:00",
          "2016-05-01T00:00:00",
          "2016-06-01T00:00:00",
          "2016-07-01T00:00:00",
          "2016-08-01T00:00:00",
          "2016-09-01T00:00:00",
          "2016-10-01T00:00:00",
          "2016-11-01T00:00:00",
          "2016-12-01T00:00:00",
          "2017-01-01T00:00:00",
          "2017-02-01T00:00:00",
          "2017-03-01T00:00:00",
          "2017-04-01T00:00:00",
          "2017-05-01T00:00:00",
          "2017-06-01T00:00:00",
          "2017-07-01T00:00:00",
          "2017-08-01T00:00:00",
          "2017-09-01T00:00:00",
          "2017-10-01T00:00:00",
          "2017-11-01T00:00:00",
          "2017-12-01T00:00:00",
          "2018-01-01T00:00:00",
          "2018-02-01T00:00:00",
          "2018-03-01T00:00:00",
          "2018-04-01T00:00:00",
          "2018-05-01T00:00:00",
          "2018-06-01T00:00:00",
          "2018-07-01T00:00:00",
          "2018-08-01T00:00:00",
          "2018-09-01T00:00:00",
          "2018-10-01T00:00:00",
          "2018-11-01T00:00:00",
          "2018-12-01T00:00:00",
          "2019-01-01T00:00:00",
          "2019-02-01T00:00:00",
          "2019-03-01T00:00:00",
          "2019-04-01T00:00:00",
          "2019-05-01T00:00:00",
          "2019-06-01T00:00:00",
          "2019-07-01T00:00:00",
          "2019-08-01T00:00:00",
          "2019-09-01T00:00:00",
          "2019-10-01T00:00:00",
          "2019-11-01T00:00:00",
          "2019-12-01T00:00:00",
          "2020-01-01T00:00:00",
          "2020-02-01T00:00:00",
          "2020-03-01T00:00:00",
          "2020-04-01T00:00:00",
          "2020-05-01T00:00:00",
          "2020-06-01T00:00:00",
          "2020-07-01T00:00:00",
          "2020-08-01T00:00:00",
          "2020-09-01T00:00:00",
          "2020-10-01T00:00:00",
          "2020-11-01T00:00:00",
          "2020-12-01T00:00:00",
          "2021-01-01T00:00:00",
          "2021-02-01T00:00:00",
          "2021-03-01T00:00:00",
          "2021-04-01T00:00:00",
          "2021-05-01T00:00:00",
          "2021-06-01T00:00:00",
          "2021-07-01T00:00:00",
          "2021-08-01T00:00:00",
          "2021-09-01T00:00:00",
          "2021-10-01T00:00:00",
          "2021-11-01T00:00:00"
         ],
         "xaxis": "x",
         "y": [
          742.9500122070312,
          697.77001953125,
          744.9500122070312,
          693.010009765625,
          735.719970703125,
          692.0999755859375,
          768.7899780273438,
          767.0499877929688,
          777.2899780273438,
          784.5399780273438,
          758.0399780273438,
          771.8200073242188,
          796.7899780273438,
          823.2100219726562,
          829.5599975585938,
          905.9600219726562,
          964.8599853515624,
          908.72998046875,
          930.5,
          939.3300170898438,
          959.1099853515624,
          1016.6400146484376,
          1021.4099731445312,
          1046.4000244140625,
          1169.93994140625,
          1104.72998046875,
          1031.7900390625,
          1017.3300170898438,
          1084.989990234375,
          1115.6500244140625,
          1217.260009765625,
          1218.18994140625,
          1193.469970703125,
          1076.77001953125,
          1094.4300537109375,
          1035.6099853515625,
          1116.3699951171875,
          1119.9200439453125,
          1173.31005859375,
          1188.47998046875,
          1103.6300048828125,
          1080.9100341796875,
          1216.6800537109375,
          1188.0999755859375,
          1219,
          1260.1099853515625,
          1304.9599609375,
          1337.02001953125,
          1434.22998046875,
          1339.3299560546875,
          1162.81005859375,
          1348.6600341796875,
          1428.9200439453125,
          1413.6099853515625,
          1482.9599609375,
          1634.1800537109375,
          1469.5999755859375,
          1621.010009765625,
          1760.739990234375,
          1751.8800048828125,
          1835.739990234375,
          2036.8599853515625,
          2068.6298828125,
          2410.1201171875,
          2411.56005859375,
          2506.320068359375,
          2704.419921875,
          2909.239990234375,
          2665.31005859375,
          2965.409912109375,
          2849.0400390625
         ],
         "yaxis": "y"
        }
       ],
       "layout": {
        "legend": {
         "tracegroupgap": 0
        },
        "paper_bgcolor": "#FFFFFF",
        "plot_bgcolor": "#FFFFFF",
        "template": {
         "data": {
          "bar": [
           {
            "error_x": {
             "color": "#2a3f5f"
            },
            "error_y": {
             "color": "#2a3f5f"
            },
            "marker": {
             "line": {
              "color": "#E5ECF6",
              "width": 0.5
             },
             "pattern": {
              "fillmode": "overlay",
              "size": 10,
              "solidity": 0.2
             }
            },
            "type": "bar"
           }
          ],
          "barpolar": [
           {
            "marker": {
             "line": {
              "color": "#E5ECF6",
              "width": 0.5
             },
             "pattern": {
              "fillmode": "overlay",
              "size": 10,
              "solidity": 0.2
             }
            },
            "type": "barpolar"
           }
          ],
          "carpet": [
           {
            "aaxis": {
             "endlinecolor": "#2a3f5f",
             "gridcolor": "white",
             "linecolor": "white",
             "minorgridcolor": "white",
             "startlinecolor": "#2a3f5f"
            },
            "baxis": {
             "endlinecolor": "#2a3f5f",
             "gridcolor": "white",
             "linecolor": "white",
             "minorgridcolor": "white",
             "startlinecolor": "#2a3f5f"
            },
            "type": "carpet"
           }
          ],
          "choropleth": [
           {
            "colorbar": {
             "outlinewidth": 0,
             "ticks": ""
            },
            "type": "choropleth"
           }
          ],
          "contour": [
           {
            "colorbar": {
             "outlinewidth": 0,
             "ticks": ""
            },
            "colorscale": [
             [
              0,
              "#0d0887"
             ],
             [
              0.1111111111111111,
              "#46039f"
             ],
             [
              0.2222222222222222,
              "#7201a8"
             ],
             [
              0.3333333333333333,
              "#9c179e"
             ],
             [
              0.4444444444444444,
              "#bd3786"
             ],
             [
              0.5555555555555556,
              "#d8576b"
             ],
             [
              0.6666666666666666,
              "#ed7953"
             ],
             [
              0.7777777777777778,
              "#fb9f3a"
             ],
             [
              0.8888888888888888,
              "#fdca26"
             ],
             [
              1,
              "#f0f921"
             ]
            ],
            "type": "contour"
           }
          ],
          "contourcarpet": [
           {
            "colorbar": {
             "outlinewidth": 0,
             "ticks": ""
            },
            "type": "contourcarpet"
           }
          ],
          "heatmap": [
           {
            "colorbar": {
             "outlinewidth": 0,
             "ticks": ""
            },
            "colorscale": [
             [
              0,
              "#0d0887"
             ],
             [
              0.1111111111111111,
              "#46039f"
             ],
             [
              0.2222222222222222,
              "#7201a8"
             ],
             [
              0.3333333333333333,
              "#9c179e"
             ],
             [
              0.4444444444444444,
              "#bd3786"
             ],
             [
              0.5555555555555556,
              "#d8576b"
             ],
             [
              0.6666666666666666,
              "#ed7953"
             ],
             [
              0.7777777777777778,
              "#fb9f3a"
             ],
             [
              0.8888888888888888,
              "#fdca26"
             ],
             [
              1,
              "#f0f921"
             ]
            ],
            "type": "heatmap"
           }
          ],
          "heatmapgl": [
           {
            "colorbar": {
             "outlinewidth": 0,
             "ticks": ""
            },
            "colorscale": [
             [
              0,
              "#0d0887"
             ],
             [
              0.1111111111111111,
              "#46039f"
             ],
             [
              0.2222222222222222,
              "#7201a8"
             ],
             [
              0.3333333333333333,
              "#9c179e"
             ],
             [
              0.4444444444444444,
              "#bd3786"
             ],
             [
              0.5555555555555556,
              "#d8576b"
             ],
             [
              0.6666666666666666,
              "#ed7953"
             ],
             [
              0.7777777777777778,
              "#fb9f3a"
             ],
             [
              0.8888888888888888,
              "#fdca26"
             ],
             [
              1,
              "#f0f921"
             ]
            ],
            "type": "heatmapgl"
           }
          ],
          "histogram": [
           {
            "marker": {
             "pattern": {
              "fillmode": "overlay",
              "size": 10,
              "solidity": 0.2
             }
            },
            "type": "histogram"
           }
          ],
          "histogram2d": [
           {
            "colorbar": {
             "outlinewidth": 0,
             "ticks": ""
            },
            "colorscale": [
             [
              0,
              "#0d0887"
             ],
             [
              0.1111111111111111,
              "#46039f"
             ],
             [
              0.2222222222222222,
              "#7201a8"
             ],
             [
              0.3333333333333333,
              "#9c179e"
             ],
             [
              0.4444444444444444,
              "#bd3786"
             ],
             [
              0.5555555555555556,
              "#d8576b"
             ],
             [
              0.6666666666666666,
              "#ed7953"
             ],
             [
              0.7777777777777778,
              "#fb9f3a"
             ],
             [
              0.8888888888888888,
              "#fdca26"
             ],
             [
              1,
              "#f0f921"
             ]
            ],
            "type": "histogram2d"
           }
          ],
          "histogram2dcontour": [
           {
            "colorbar": {
             "outlinewidth": 0,
             "ticks": ""
            },
            "colorscale": [
             [
              0,
              "#0d0887"
             ],
             [
              0.1111111111111111,
              "#46039f"
             ],
             [
              0.2222222222222222,
              "#7201a8"
             ],
             [
              0.3333333333333333,
              "#9c179e"
             ],
             [
              0.4444444444444444,
              "#bd3786"
             ],
             [
              0.5555555555555556,
              "#d8576b"
             ],
             [
              0.6666666666666666,
              "#ed7953"
             ],
             [
              0.7777777777777778,
              "#fb9f3a"
             ],
             [
              0.8888888888888888,
              "#fdca26"
             ],
             [
              1,
              "#f0f921"
             ]
            ],
            "type": "histogram2dcontour"
           }
          ],
          "mesh3d": [
           {
            "colorbar": {
             "outlinewidth": 0,
             "ticks": ""
            },
            "type": "mesh3d"
           }
          ],
          "parcoords": [
           {
            "line": {
             "colorbar": {
              "outlinewidth": 0,
              "ticks": ""
             }
            },
            "type": "parcoords"
           }
          ],
          "pie": [
           {
            "automargin": true,
            "type": "pie"
           }
          ],
          "scatter": [
           {
            "fillpattern": {
             "fillmode": "overlay",
             "size": 10,
             "solidity": 0.2
            },
            "type": "scatter"
           }
          ],
          "scatter3d": [
           {
            "line": {
             "colorbar": {
              "outlinewidth": 0,
              "ticks": ""
             }
            },
            "marker": {
             "colorbar": {
              "outlinewidth": 0,
              "ticks": ""
             }
            },
            "type": "scatter3d"
           }
          ],
          "scattercarpet": [
           {
            "marker": {
             "colorbar": {
              "outlinewidth": 0,
              "ticks": ""
             }
            },
            "type": "scattercarpet"
           }
          ],
          "scattergeo": [
           {
            "marker": {
             "colorbar": {
              "outlinewidth": 0,
              "ticks": ""
             }
            },
            "type": "scattergeo"
           }
          ],
          "scattergl": [
           {
            "marker": {
             "colorbar": {
              "outlinewidth": 0,
              "ticks": ""
             }
            },
            "type": "scattergl"
           }
          ],
          "scattermapbox": [
           {
            "marker": {
             "colorbar": {
              "outlinewidth": 0,
              "ticks": ""
             }
            },
            "type": "scattermapbox"
           }
          ],
          "scatterpolar": [
           {
            "marker": {
             "colorbar": {
              "outlinewidth": 0,
              "ticks": ""
             }
            },
            "type": "scatterpolar"
           }
          ],
          "scatterpolargl": [
           {
            "marker": {
             "colorbar": {
              "outlinewidth": 0,
              "ticks": ""
             }
            },
            "type": "scatterpolargl"
           }
          ],
          "scatterternary": [
           {
            "marker": {
             "colorbar": {
              "outlinewidth": 0,
              "ticks": ""
             }
            },
            "type": "scatterternary"
           }
          ],
          "surface": [
           {
            "colorbar": {
             "outlinewidth": 0,
             "ticks": ""
            },
            "colorscale": [
             [
              0,
              "#0d0887"
             ],
             [
              0.1111111111111111,
              "#46039f"
             ],
             [
              0.2222222222222222,
              "#7201a8"
             ],
             [
              0.3333333333333333,
              "#9c179e"
             ],
             [
              0.4444444444444444,
              "#bd3786"
             ],
             [
              0.5555555555555556,
              "#d8576b"
             ],
             [
              0.6666666666666666,
              "#ed7953"
             ],
             [
              0.7777777777777778,
              "#fb9f3a"
             ],
             [
              0.8888888888888888,
              "#fdca26"
             ],
             [
              1,
              "#f0f921"
             ]
            ],
            "type": "surface"
           }
          ],
          "table": [
           {
            "cells": {
             "fill": {
              "color": "#EBF0F8"
             },
             "line": {
              "color": "white"
             }
            },
            "header": {
             "fill": {
              "color": "#C8D4E3"
             },
             "line": {
              "color": "white"
             }
            },
            "type": "table"
           }
          ]
         },
         "layout": {
          "annotationdefaults": {
           "arrowcolor": "#2a3f5f",
           "arrowhead": 0,
           "arrowwidth": 1
          },
          "autotypenumbers": "strict",
          "coloraxis": {
           "colorbar": {
            "outlinewidth": 0,
            "ticks": ""
           }
          },
          "colorscale": {
           "diverging": [
            [
             0,
             "#8e0152"
            ],
            [
             0.1,
             "#c51b7d"
            ],
            [
             0.2,
             "#de77ae"
            ],
            [
             0.3,
             "#f1b6da"
            ],
            [
             0.4,
             "#fde0ef"
            ],
            [
             0.5,
             "#f7f7f7"
            ],
            [
             0.6,
             "#e6f5d0"
            ],
            [
             0.7,
             "#b8e186"
            ],
            [
             0.8,
             "#7fbc41"
            ],
            [
             0.9,
             "#4d9221"
            ],
            [
             1,
             "#276419"
            ]
           ],
           "sequential": [
            [
             0,
             "#0d0887"
            ],
            [
             0.1111111111111111,
             "#46039f"
            ],
            [
             0.2222222222222222,
             "#7201a8"
            ],
            [
             0.3333333333333333,
             "#9c179e"
            ],
            [
             0.4444444444444444,
             "#bd3786"
            ],
            [
             0.5555555555555556,
             "#d8576b"
            ],
            [
             0.6666666666666666,
             "#ed7953"
            ],
            [
             0.7777777777777778,
             "#fb9f3a"
            ],
            [
             0.8888888888888888,
             "#fdca26"
            ],
            [
             1,
             "#f0f921"
            ]
           ],
           "sequentialminus": [
            [
             0,
             "#0d0887"
            ],
            [
             0.1111111111111111,
             "#46039f"
            ],
            [
             0.2222222222222222,
             "#7201a8"
            ],
            [
             0.3333333333333333,
             "#9c179e"
            ],
            [
             0.4444444444444444,
             "#bd3786"
            ],
            [
             0.5555555555555556,
             "#d8576b"
            ],
            [
             0.6666666666666666,
             "#ed7953"
            ],
            [
             0.7777777777777778,
             "#fb9f3a"
            ],
            [
             0.8888888888888888,
             "#fdca26"
            ],
            [
             1,
             "#f0f921"
            ]
           ]
          },
          "colorway": [
           "#636efa",
           "#EF553B",
           "#00cc96",
           "#ab63fa",
           "#FFA15A",
           "#19d3f3",
           "#FF6692",
           "#B6E880",
           "#FF97FF",
           "#FECB52"
          ],
          "font": {
           "color": "#2a3f5f"
          },
          "geo": {
           "bgcolor": "white",
           "lakecolor": "white",
           "landcolor": "#E5ECF6",
           "showlakes": true,
           "showland": true,
           "subunitcolor": "white"
          },
          "hoverlabel": {
           "align": "left"
          },
          "hovermode": "closest",
          "mapbox": {
           "style": "light"
          },
          "paper_bgcolor": "white",
          "plot_bgcolor": "#E5ECF6",
          "polar": {
           "angularaxis": {
            "gridcolor": "white",
            "linecolor": "white",
            "ticks": ""
           },
           "bgcolor": "#E5ECF6",
           "radialaxis": {
            "gridcolor": "white",
            "linecolor": "white",
            "ticks": ""
           }
          },
          "scene": {
           "xaxis": {
            "backgroundcolor": "#E5ECF6",
            "gridcolor": "white",
            "gridwidth": 2,
            "linecolor": "white",
            "showbackground": true,
            "ticks": "",
            "zerolinecolor": "white"
           },
           "yaxis": {
            "backgroundcolor": "#E5ECF6",
            "gridcolor": "white",
            "gridwidth": 2,
            "linecolor": "white",
            "showbackground": true,
            "ticks": "",
            "zerolinecolor": "white"
           },
           "zaxis": {
            "backgroundcolor": "#E5ECF6",
            "gridcolor": "white",
            "gridwidth": 2,
            "linecolor": "white",
            "showbackground": true,
            "ticks": "",
            "zerolinecolor": "white"
           }
          },
          "shapedefaults": {
           "line": {
            "color": "#2a3f5f"
           }
          },
          "ternary": {
           "aaxis": {
            "gridcolor": "white",
            "linecolor": "white",
            "ticks": ""
           },
           "baxis": {
            "gridcolor": "white",
            "linecolor": "white",
            "ticks": ""
           },
           "bgcolor": "#E5ECF6",
           "caxis": {
            "gridcolor": "white",
            "linecolor": "white",
            "ticks": ""
           }
          },
          "title": {
           "x": 0.05
          },
          "xaxis": {
           "automargin": true,
           "gridcolor": "white",
           "linecolor": "white",
           "ticks": "",
           "title": {
            "standoff": 15
           },
           "zerolinecolor": "white",
           "zerolinewidth": 2
          },
          "yaxis": {
           "automargin": true,
           "gridcolor": "white",
           "linecolor": "white",
           "ticks": "",
           "title": {
            "standoff": 15
           },
           "zerolinecolor": "white",
           "zerolinewidth": 2
          }
         }
        },
        "title": {
         "text": "Comportamiento GOOGLE"
        },
        "xaxis": {
         "anchor": "y",
         "domain": [
          0,
          1
         ],
         "title": {
          "text": "Fecha_dias"
         }
        },
        "yaxis": {
         "anchor": "x",
         "domain": [
          0,
          1
         ],
         "title": {
          "text": "GOOG"
         }
        }
       }
      }
     },
     "metadata": {},
     "output_type": "display_data"
    }
   ],
   "source": [
    "# importo libreria y renombro\n",
    "import plotly.express as px\n",
    "\n",
    "# a la figura le asigno los valores de \n",
    "# data_frame = df_n\n",
    "# eje x columna fecha del df lo mismo para y y el titulo\n",
    "# los labels lepaso los nombres qu quiero\n",
    "fig=px.line(data_frame=df_n,x='Fecha',y='GOOG',title='Comportamiento GOOGLE',\\\n",
    "             labels={\n",
    "                     \"Fecha\": \"Fecha_dias\",\n",
    "                     \"value\": \"Precio (USD)\"\n",
    "                 })\n",
    "\n",
    "# asigno colores\n",
    "\n",
    "fig.update_layout(paper_bgcolor=\"#FFFFFF\",plot_bgcolor='#FFFFFF',)\n",
    "\n",
    "# muestro\n",
    "fig.show()"
   ]
  },
  {
   "cell_type": "code",
   "execution_count": 11,
   "metadata": {},
   "outputs": [
    {
     "data": {
      "text/html": [
       "<div>\n",
       "<style scoped>\n",
       "    .dataframe tbody tr th:only-of-type {\n",
       "        vertical-align: middle;\n",
       "    }\n",
       "\n",
       "    .dataframe tbody tr th {\n",
       "        vertical-align: top;\n",
       "    }\n",
       "\n",
       "    .dataframe thead th {\n",
       "        text-align: right;\n",
       "    }\n",
       "</style>\n",
       "<table border=\"1\" class=\"dataframe\">\n",
       "  <thead>\n",
       "    <tr style=\"text-align: right;\">\n",
       "      <th></th>\n",
       "      <th>GOOG</th>\n",
       "      <th>Fecha</th>\n",
       "    </tr>\n",
       "  </thead>\n",
       "  <tbody>\n",
       "    <tr>\n",
       "      <th>0</th>\n",
       "      <td>742.950012</td>\n",
       "      <td>2016-01-01</td>\n",
       "    </tr>\n",
       "    <tr>\n",
       "      <th>1</th>\n",
       "      <td>697.770020</td>\n",
       "      <td>2016-02-01</td>\n",
       "    </tr>\n",
       "    <tr>\n",
       "      <th>2</th>\n",
       "      <td>744.950012</td>\n",
       "      <td>2016-03-01</td>\n",
       "    </tr>\n",
       "    <tr>\n",
       "      <th>3</th>\n",
       "      <td>693.010010</td>\n",
       "      <td>2016-04-01</td>\n",
       "    </tr>\n",
       "    <tr>\n",
       "      <th>4</th>\n",
       "      <td>735.719971</td>\n",
       "      <td>2016-05-01</td>\n",
       "    </tr>\n",
       "    <tr>\n",
       "      <th>...</th>\n",
       "      <td>...</td>\n",
       "      <td>...</td>\n",
       "    </tr>\n",
       "    <tr>\n",
       "      <th>66</th>\n",
       "      <td>2704.419922</td>\n",
       "      <td>2021-07-01</td>\n",
       "    </tr>\n",
       "    <tr>\n",
       "      <th>67</th>\n",
       "      <td>2909.239990</td>\n",
       "      <td>2021-08-01</td>\n",
       "    </tr>\n",
       "    <tr>\n",
       "      <th>68</th>\n",
       "      <td>2665.310059</td>\n",
       "      <td>2021-09-01</td>\n",
       "    </tr>\n",
       "    <tr>\n",
       "      <th>69</th>\n",
       "      <td>2965.409912</td>\n",
       "      <td>2021-10-01</td>\n",
       "    </tr>\n",
       "    <tr>\n",
       "      <th>70</th>\n",
       "      <td>2849.040039</td>\n",
       "      <td>2021-11-01</td>\n",
       "    </tr>\n",
       "  </tbody>\n",
       "</table>\n",
       "<p>71 rows × 2 columns</p>\n",
       "</div>"
      ],
      "text/plain": [
       "           GOOG      Fecha\n",
       "0    742.950012 2016-01-01\n",
       "1    697.770020 2016-02-01\n",
       "2    744.950012 2016-03-01\n",
       "3    693.010010 2016-04-01\n",
       "4    735.719971 2016-05-01\n",
       "..          ...        ...\n",
       "66  2704.419922 2021-07-01\n",
       "67  2909.239990 2021-08-01\n",
       "68  2665.310059 2021-09-01\n",
       "69  2965.409912 2021-10-01\n",
       "70  2849.040039 2021-11-01\n",
       "\n",
       "[71 rows x 2 columns]"
      ]
     },
     "execution_count": 11,
     "metadata": {},
     "output_type": "execute_result"
    }
   ],
   "source": [
    "df_n"
   ]
  },
  {
   "cell_type": "code",
   "execution_count": 14,
   "metadata": {},
   "outputs": [
    {
     "data": {
      "text/html": [
       "<div>\n",
       "<style scoped>\n",
       "    .dataframe tbody tr th:only-of-type {\n",
       "        vertical-align: middle;\n",
       "    }\n",
       "\n",
       "    .dataframe tbody tr th {\n",
       "        vertical-align: top;\n",
       "    }\n",
       "\n",
       "    .dataframe thead th {\n",
       "        text-align: right;\n",
       "    }\n",
       "</style>\n",
       "<table border=\"1\" class=\"dataframe\">\n",
       "  <thead>\n",
       "    <tr style=\"text-align: right;\">\n",
       "      <th></th>\n",
       "      <th>GOOG</th>\n",
       "      <th>Fecha</th>\n",
       "      <th>Dif</th>\n",
       "    </tr>\n",
       "  </thead>\n",
       "  <tbody>\n",
       "    <tr>\n",
       "      <th>0</th>\n",
       "      <td>742.950012</td>\n",
       "      <td>2016-01-01</td>\n",
       "      <td>NaN</td>\n",
       "    </tr>\n",
       "    <tr>\n",
       "      <th>1</th>\n",
       "      <td>697.770020</td>\n",
       "      <td>2016-02-01</td>\n",
       "      <td>-45.179993</td>\n",
       "    </tr>\n",
       "    <tr>\n",
       "      <th>2</th>\n",
       "      <td>744.950012</td>\n",
       "      <td>2016-03-01</td>\n",
       "      <td>47.179993</td>\n",
       "    </tr>\n",
       "    <tr>\n",
       "      <th>3</th>\n",
       "      <td>693.010010</td>\n",
       "      <td>2016-04-01</td>\n",
       "      <td>-51.940002</td>\n",
       "    </tr>\n",
       "    <tr>\n",
       "      <th>4</th>\n",
       "      <td>735.719971</td>\n",
       "      <td>2016-05-01</td>\n",
       "      <td>42.709961</td>\n",
       "    </tr>\n",
       "    <tr>\n",
       "      <th>...</th>\n",
       "      <td>...</td>\n",
       "      <td>...</td>\n",
       "      <td>...</td>\n",
       "    </tr>\n",
       "    <tr>\n",
       "      <th>66</th>\n",
       "      <td>2704.419922</td>\n",
       "      <td>2021-07-01</td>\n",
       "      <td>198.099854</td>\n",
       "    </tr>\n",
       "    <tr>\n",
       "      <th>67</th>\n",
       "      <td>2909.239990</td>\n",
       "      <td>2021-08-01</td>\n",
       "      <td>204.820068</td>\n",
       "    </tr>\n",
       "    <tr>\n",
       "      <th>68</th>\n",
       "      <td>2665.310059</td>\n",
       "      <td>2021-09-01</td>\n",
       "      <td>-243.929932</td>\n",
       "    </tr>\n",
       "    <tr>\n",
       "      <th>69</th>\n",
       "      <td>2965.409912</td>\n",
       "      <td>2021-10-01</td>\n",
       "      <td>300.099854</td>\n",
       "    </tr>\n",
       "    <tr>\n",
       "      <th>70</th>\n",
       "      <td>2849.040039</td>\n",
       "      <td>2021-11-01</td>\n",
       "      <td>-116.369873</td>\n",
       "    </tr>\n",
       "  </tbody>\n",
       "</table>\n",
       "<p>71 rows × 3 columns</p>\n",
       "</div>"
      ],
      "text/plain": [
       "           GOOG      Fecha         Dif\n",
       "0    742.950012 2016-01-01         NaN\n",
       "1    697.770020 2016-02-01  -45.179993\n",
       "2    744.950012 2016-03-01   47.179993\n",
       "3    693.010010 2016-04-01  -51.940002\n",
       "4    735.719971 2016-05-01   42.709961\n",
       "..          ...        ...         ...\n",
       "66  2704.419922 2021-07-01  198.099854\n",
       "67  2909.239990 2021-08-01  204.820068\n",
       "68  2665.310059 2021-09-01 -243.929932\n",
       "69  2965.409912 2021-10-01  300.099854\n",
       "70  2849.040039 2021-11-01 -116.369873\n",
       "\n",
       "[71 rows x 3 columns]"
      ]
     },
     "execution_count": 14,
     "metadata": {},
     "output_type": "execute_result"
    }
   ],
   "source": [
    "pasos = 2\n",
    "\n",
    "# creo funcion llamada \"my_fun\"\n",
    "def my_fun(x):\n",
    "    # que devuela el paraemtro con las posiciones pasadas, en este caso del final al principio\n",
    "    return x.iloc[-1] - x.iloc[0]\n",
    "\n",
    "# al df_n en la columna dif le asigno\n",
    "\n",
    "df_n['Dif']=df_n['GOOG'].rolling(window=pasos).apply(my_fun) # Hacemos la diferencia del valor actual - anterior\n",
    "df_n"
   ]
  },
  {
   "cell_type": "code",
   "execution_count": 15,
   "metadata": {},
   "outputs": [
    {
     "data": {
      "text/plain": [
       "0     False\n",
       "1      True\n",
       "2     False\n",
       "3      True\n",
       "4     False\n",
       "      ...  \n",
       "66    False\n",
       "67    False\n",
       "68     True\n",
       "69    False\n",
       "70     True\n",
       "Name: Dif, Length: 71, dtype: bool"
      ]
     },
     "execution_count": 15,
     "metadata": {},
     "output_type": "execute_result"
    }
   ],
   "source": [
    "# HAcemos un filtro de cuando los valores de Dif <0\n",
    "index_bool= df_n.Dif<0\n",
    "index_bool"
   ]
  },
  {
   "cell_type": "code",
   "execution_count": 16,
   "metadata": {},
   "outputs": [
    {
     "data": {
      "text/html": [
       "<div>\n",
       "<style scoped>\n",
       "    .dataframe tbody tr th:only-of-type {\n",
       "        vertical-align: middle;\n",
       "    }\n",
       "\n",
       "    .dataframe tbody tr th {\n",
       "        vertical-align: top;\n",
       "    }\n",
       "\n",
       "    .dataframe thead th {\n",
       "        text-align: right;\n",
       "    }\n",
       "</style>\n",
       "<table border=\"1\" class=\"dataframe\">\n",
       "  <thead>\n",
       "    <tr style=\"text-align: right;\">\n",
       "      <th></th>\n",
       "      <th>GOOG</th>\n",
       "      <th>Fecha</th>\n",
       "      <th>Dif</th>\n",
       "    </tr>\n",
       "  </thead>\n",
       "  <tbody>\n",
       "    <tr>\n",
       "      <th>1</th>\n",
       "      <td>697.770020</td>\n",
       "      <td>2016-02-01</td>\n",
       "      <td>-45.179993</td>\n",
       "    </tr>\n",
       "    <tr>\n",
       "      <th>3</th>\n",
       "      <td>693.010010</td>\n",
       "      <td>2016-04-01</td>\n",
       "      <td>-51.940002</td>\n",
       "    </tr>\n",
       "    <tr>\n",
       "      <th>5</th>\n",
       "      <td>692.099976</td>\n",
       "      <td>2016-06-01</td>\n",
       "      <td>-43.619995</td>\n",
       "    </tr>\n",
       "    <tr>\n",
       "      <th>7</th>\n",
       "      <td>767.049988</td>\n",
       "      <td>2016-08-01</td>\n",
       "      <td>-1.739990</td>\n",
       "    </tr>\n",
       "    <tr>\n",
       "      <th>10</th>\n",
       "      <td>758.039978</td>\n",
       "      <td>2016-11-01</td>\n",
       "      <td>-26.500000</td>\n",
       "    </tr>\n",
       "    <tr>\n",
       "      <th>17</th>\n",
       "      <td>908.729980</td>\n",
       "      <td>2017-06-01</td>\n",
       "      <td>-56.130005</td>\n",
       "    </tr>\n",
       "    <tr>\n",
       "      <th>25</th>\n",
       "      <td>1104.729980</td>\n",
       "      <td>2018-02-01</td>\n",
       "      <td>-65.209961</td>\n",
       "    </tr>\n",
       "    <tr>\n",
       "      <th>26</th>\n",
       "      <td>1031.790039</td>\n",
       "      <td>2018-03-01</td>\n",
       "      <td>-72.939941</td>\n",
       "    </tr>\n",
       "    <tr>\n",
       "      <th>27</th>\n",
       "      <td>1017.330017</td>\n",
       "      <td>2018-04-01</td>\n",
       "      <td>-14.460022</td>\n",
       "    </tr>\n",
       "    <tr>\n",
       "      <th>32</th>\n",
       "      <td>1193.469971</td>\n",
       "      <td>2018-09-01</td>\n",
       "      <td>-24.719971</td>\n",
       "    </tr>\n",
       "    <tr>\n",
       "      <th>33</th>\n",
       "      <td>1076.770020</td>\n",
       "      <td>2018-10-01</td>\n",
       "      <td>-116.699951</td>\n",
       "    </tr>\n",
       "    <tr>\n",
       "      <th>35</th>\n",
       "      <td>1035.609985</td>\n",
       "      <td>2018-12-01</td>\n",
       "      <td>-58.820068</td>\n",
       "    </tr>\n",
       "    <tr>\n",
       "      <th>40</th>\n",
       "      <td>1103.630005</td>\n",
       "      <td>2019-05-01</td>\n",
       "      <td>-84.849976</td>\n",
       "    </tr>\n",
       "    <tr>\n",
       "      <th>41</th>\n",
       "      <td>1080.910034</td>\n",
       "      <td>2019-06-01</td>\n",
       "      <td>-22.719971</td>\n",
       "    </tr>\n",
       "    <tr>\n",
       "      <th>43</th>\n",
       "      <td>1188.099976</td>\n",
       "      <td>2019-08-01</td>\n",
       "      <td>-28.580078</td>\n",
       "    </tr>\n",
       "    <tr>\n",
       "      <th>49</th>\n",
       "      <td>1339.329956</td>\n",
       "      <td>2020-02-01</td>\n",
       "      <td>-94.900024</td>\n",
       "    </tr>\n",
       "    <tr>\n",
       "      <th>50</th>\n",
       "      <td>1162.810059</td>\n",
       "      <td>2020-03-01</td>\n",
       "      <td>-176.519897</td>\n",
       "    </tr>\n",
       "    <tr>\n",
       "      <th>53</th>\n",
       "      <td>1413.609985</td>\n",
       "      <td>2020-06-01</td>\n",
       "      <td>-15.310059</td>\n",
       "    </tr>\n",
       "    <tr>\n",
       "      <th>56</th>\n",
       "      <td>1469.599976</td>\n",
       "      <td>2020-09-01</td>\n",
       "      <td>-164.580078</td>\n",
       "    </tr>\n",
       "    <tr>\n",
       "      <th>59</th>\n",
       "      <td>1751.880005</td>\n",
       "      <td>2020-12-01</td>\n",
       "      <td>-8.859985</td>\n",
       "    </tr>\n",
       "    <tr>\n",
       "      <th>68</th>\n",
       "      <td>2665.310059</td>\n",
       "      <td>2021-09-01</td>\n",
       "      <td>-243.929932</td>\n",
       "    </tr>\n",
       "    <tr>\n",
       "      <th>70</th>\n",
       "      <td>2849.040039</td>\n",
       "      <td>2021-11-01</td>\n",
       "      <td>-116.369873</td>\n",
       "    </tr>\n",
       "  </tbody>\n",
       "</table>\n",
       "</div>"
      ],
      "text/plain": [
       "           GOOG      Fecha         Dif\n",
       "1    697.770020 2016-02-01  -45.179993\n",
       "3    693.010010 2016-04-01  -51.940002\n",
       "5    692.099976 2016-06-01  -43.619995\n",
       "7    767.049988 2016-08-01   -1.739990\n",
       "10   758.039978 2016-11-01  -26.500000\n",
       "17   908.729980 2017-06-01  -56.130005\n",
       "25  1104.729980 2018-02-01  -65.209961\n",
       "26  1031.790039 2018-03-01  -72.939941\n",
       "27  1017.330017 2018-04-01  -14.460022\n",
       "32  1193.469971 2018-09-01  -24.719971\n",
       "33  1076.770020 2018-10-01 -116.699951\n",
       "35  1035.609985 2018-12-01  -58.820068\n",
       "40  1103.630005 2019-05-01  -84.849976\n",
       "41  1080.910034 2019-06-01  -22.719971\n",
       "43  1188.099976 2019-08-01  -28.580078\n",
       "49  1339.329956 2020-02-01  -94.900024\n",
       "50  1162.810059 2020-03-01 -176.519897\n",
       "53  1413.609985 2020-06-01  -15.310059\n",
       "56  1469.599976 2020-09-01 -164.580078\n",
       "59  1751.880005 2020-12-01   -8.859985\n",
       "68  2665.310059 2021-09-01 -243.929932\n",
       "70  2849.040039 2021-11-01 -116.369873"
      ]
     },
     "execution_count": 16,
     "metadata": {},
     "output_type": "execute_result"
    }
   ],
   "source": [
    "# Ahora podemos aplicar el filtro sobre el objeto data frame\n",
    "df_neg=df_n.loc[index_bool,:]\n",
    "df_neg"
   ]
  },
  {
   "cell_type": "code",
   "execution_count": 17,
   "metadata": {},
   "outputs": [
    {
     "data": {
      "text/plain": [
       "<matplotlib.legend.Legend at 0x264a13f8c50>"
      ]
     },
     "execution_count": 17,
     "metadata": {},
     "output_type": "execute_result"
    },
    {
     "data": {
      "image/png": "[encoded data removed]",
      "text/plain": [
       "<Figure size 1000x600 with 1 Axes>"
      ]
     },
     "metadata": {},
     "output_type": "display_data"
    }
   ],
   "source": [
    "\n",
    "# importo libreria\n",
    "import matplotlib.pyplot as plt\n",
    "\n",
    "# tamaño\n",
    "fig,ax= plt.subplots(figsize=(10,6))\n",
    "\n",
    "# le paso los df\n",
    "ax.plot(df_n.Fecha,df_n.GOOG)\n",
    "\n",
    "# que columnas tomar tamaños, color, y nomnbre\n",
    "ax.scatter(x=df_neg.Fecha, y= df_neg.GOOG, s=20, color='red', label='R')\n",
    "\n",
    "#nombre de los ejes\n",
    "ax.set_xlabel('Fecha')\n",
    "ax.set_ylabel('Precio')\n",
    "\n",
    "# titulos\n",
    "ax.set_title('Precio Accion vs tiempo')\n",
    "\n",
    "# ubicacione\n",
    "ax.legend(loc='upper left')"
   ]
  }
 ],
 "metadata": {
  "kernelspec": {
   "display_name": "Python 3",
   "language": "python",
   "name": "python3"
  },
  "language_info": {
   "codemirror_mode": {
    "name": "ipython",
    "version": 3
   },
   "file_extension": ".py",
   "mimetype": "text/x-python",
   "name": "python",
   "nbconvert_exporter": "python",
   "pygments_lexer": "ipython3",
   "version": "3.11.1"
  }
 },
 "nbformat": 4,
 "nbformat_minor": 2
}
