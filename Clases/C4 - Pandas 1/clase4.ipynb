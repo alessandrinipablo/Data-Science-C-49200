{
 "cells": [
  {
   "cell_type": "code",
   "execution_count": 2,
   "metadata": {},
   "outputs": [],
   "source": [
    "import pandas as pd  "
   ]
  },
  {
   "cell_type": "code",
   "execution_count": 4,
   "metadata": {},
   "outputs": [
    {
     "data": {
      "text/plain": [
       "0    50\n",
       "1    52\n",
       "2    54\n",
       "3    56\n",
       "4    58\n",
       "5    60\n",
       "6    62\n",
       "7    64\n",
       "8    66\n",
       "9    68\n",
       "Name: Serie, dtype: int64"
      ]
     },
     "execution_count": 4,
     "metadata": {},
     "output_type": "execute_result"
    }
   ],
   "source": [
    "numeros=range(50,70,2)\n",
    "numeros_serie=pd.Series(numeros, name=\"Serie\")\n",
    "numeros_serie"
   ]
  },
  {
   "cell_type": "code",
   "execution_count": 5,
   "metadata": {},
   "outputs": [
    {
     "data": {
      "text/plain": [
       "RangeIndex(start=0, stop=10, step=1)"
      ]
     },
     "execution_count": 5,
     "metadata": {},
     "output_type": "execute_result"
    }
   ],
   "source": [
    "numeros_serie.index"
   ]
  },
  {
   "cell_type": "code",
   "execution_count": 6,
   "metadata": {},
   "outputs": [
    {
     "data": {
      "text/plain": [
       "array([50, 52, 54, 56, 58, 60, 62, 64, 66, 68], dtype=int64)"
      ]
     },
     "execution_count": 6,
     "metadata": {},
     "output_type": "execute_result"
    }
   ],
   "source": [
    "numeros_serie.values"
   ]
  },
  {
   "cell_type": "code",
   "execution_count": 9,
   "metadata": {},
   "outputs": [
    {
     "data": {
      "text/plain": [
       "primero    50\n",
       "segundo    52\n",
       "tercero    54\n",
       "cuarto     56\n",
       "quinto     58\n",
       "sexto      60\n",
       "séptimo    62\n",
       "octavo     64\n",
       "noveno     66\n",
       "décimo     68\n",
       "dtype: int64"
      ]
     },
     "execution_count": 9,
     "metadata": {},
     "output_type": "execute_result"
    }
   ],
   "source": [
    "# aca puedo creer los indices \n",
    "numeros_en_texto = ['primero','segundo','tercero','cuarto',\n",
    "                    'quinto','sexto','séptimo','octavo','noveno','décimo']\n",
    "# a la serie le paso los indices que cree\n",
    "Numeros_serie_2 = pd.Series(numeros,index=numeros_en_texto)\n",
    "Numeros_serie_2"
   ]
  },
  {
   "cell_type": "code",
   "execution_count": 10,
   "metadata": {},
   "outputs": [],
   "source": [
    "modelos = ['A4 3.0 Quattro 4dr manual',\n",
    "           'A4 3.0 Quattro 4dr auto',\n",
    "           'A6 3.0 4dr',\n",
    "           'A6 3.0 Quattro 4dr',\n",
    "            'A4 3.0 convertible 2dr']\n",
    "peso = [3583, 3627, 3561, 3880, 3814]\n",
    "precios = ['$33,430', '$34,480', '$36,640', '$39,640', '$42,490']\n",
    "Autos_peso = pd.Series(peso,index=modelos)\n",
    "Autos_precio = pd.Series(precios,index=modelos) \n"
   ]
  },
  {
   "cell_type": "code",
   "execution_count": 11,
   "metadata": {},
   "outputs": [
    {
     "data": {
      "text/plain": [
       "A4 3.0 Quattro 4dr manual    3583\n",
       "A4 3.0 Quattro 4dr auto      3627\n",
       "A6 3.0 4dr                   3561\n",
       "A6 3.0 Quattro 4dr           3880\n",
       "A4 3.0 convertible 2dr       3814\n",
       "dtype: int64"
      ]
     },
     "execution_count": 11,
     "metadata": {},
     "output_type": "execute_result"
    }
   ],
   "source": [
    "Autos_peso"
   ]
  },
  {
   "cell_type": "code",
   "execution_count": 12,
   "metadata": {},
   "outputs": [
    {
     "data": {
      "text/plain": [
       "A4 3.0 Quattro 4dr manual    $33,430\n",
       "A4 3.0 Quattro 4dr auto      $34,480\n",
       "A6 3.0 4dr                   $36,640\n",
       "A6 3.0 Quattro 4dr           $39,640\n",
       "A4 3.0 convertible 2dr       $42,490\n",
       "dtype: object"
      ]
     },
     "execution_count": 12,
     "metadata": {},
     "output_type": "execute_result"
    }
   ],
   "source": [
    "Autos_precio"
   ]
  }
 ],
 "metadata": {
  "kernelspec": {
   "display_name": "Python 3",
   "language": "python",
   "name": "python3"
  },
  "language_info": {
   "codemirror_mode": {
    "name": "ipython",
    "version": 3
   },
   "file_extension": ".py",
   "mimetype": "text/x-python",
   "name": "python",
   "nbconvert_exporter": "python",
   "pygments_lexer": "ipython3",
   "version": "3.11.1"
  }
 },
 "nbformat": 4,
 "nbformat_minor": 2
}
